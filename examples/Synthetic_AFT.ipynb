{
 "cells": [
  {
   "cell_type": "markdown",
   "metadata": {},
   "source": [
    "# Apatite Fission track data using PyAFT\n",
    "\n",
    "Romain Beucher, The University of Melbourne"
   ]
  },
  {
   "cell_type": "code",
   "execution_count": 1,
   "metadata": {
    "collapsed": false
   },
   "outputs": [],
   "source": [
    "%matplotlib inline"
   ]
  },
  {
   "cell_type": "markdown",
   "metadata": {},
   "source": [
    "The PyAFT package contains a serie of tools useful to fission-track analysis.\n",
    "It can be imported as follow:"
   ]
  },
  {
   "cell_type": "code",
   "execution_count": 2,
   "metadata": {
    "collapsed": false
   },
   "outputs": [],
   "source": [
    "import pyAFT as AFT"
   ]
  },
  {
   "cell_type": "markdown",
   "metadata": {},
   "source": [
    "One can load some useful thermal history examples such as the \"Wolf\"\n",
    "histories by importing the thermal_histories submodule."
   ]
  },
  {
   "cell_type": "code",
   "execution_count": 3,
   "metadata": {
    "collapsed": false
   },
   "outputs": [
    {
     "data": {
      "text/plain": [
       "[10.0, 64.0, 18.0]"
      ]
     },
     "execution_count": 3,
     "metadata": {},
     "output_type": "execute_result"
    }
   ],
   "source": [
    "from pyAFT import thermal_histories\n",
    "wolf1 = thermal_histories.wolf5\n",
    "wolf2 = thermal_histories.wolf2\n",
    "wolf3 = thermal_histories.wolf3\n",
    "wolf4 = thermal_histories.wolf4\n",
    "\n",
    "wolf1.Temperature"
   ]
  },
  {
   "cell_type": "markdown",
   "metadata": {},
   "source": [
    "## Creating a Synthetic dataset"
   ]
  },
  {
   "cell_type": "markdown",
   "metadata": {},
   "source": [
    "We can create a synthetic dataset by creating a Synthetic object.\n",
    "The Synthetic object requires providing a thermal history. The annealing model used is from Ketcham 1999, other options will soon be available."
   ]
  },
  {
   "cell_type": "code",
   "execution_count": 15,
   "metadata": {
    "collapsed": false
   },
   "outputs": [],
   "source": [
    "dataset = AFT.Synthetic(history=wolf1)"
   ]
  },
  {
   "cell_type": "markdown",
   "metadata": {},
   "source": [
    "We can quickly check the thermal history by calling the plot_history method:"
   ]
  },
  {
   "cell_type": "code",
   "execution_count": 16,
   "metadata": {
    "collapsed": false
   },
   "outputs": [
    {
     "data": {
      "image/png": "[encoded data removed]",
      "text/plain": [
       "<matplotlib.figure.Figure at 0x7fd53d55c320>"
      ]
     },
     "metadata": {},
     "output_type": "display_data"
    }
   ],
   "source": [
    "dataset.plot_history()"
   ]
  },
  {
   "cell_type": "markdown",
   "metadata": {},
   "source": [
    "### Exploring the Synthetic Dataset object"
   ]
  },
  {
   "cell_type": "markdown",
   "metadata": {},
   "source": [
    "We can access information such as:\n",
    "    - The fission track age"
   ]
  },
  {
   "cell_type": "code",
   "execution_count": 6,
   "metadata": {
    "collapsed": false
   },
   "outputs": [
    {
     "data": {
      "text/plain": [
       "(83.54553654810711, None)"
      ]
     },
     "execution_count": 6,
     "metadata": {},
     "output_type": "execute_result"
    }
   ],
   "source": [
    "dataset.AFT, dataset.AFT_error"
   ]
  },
  {
   "cell_type": "markdown",
   "metadata": {},
   "source": [
    "    - The number of spontaneous tracks"
   ]
  },
  {
   "cell_type": "code",
   "execution_count": 7,
   "metadata": {
    "collapsed": false
   },
   "outputs": [
    {
     "data": {
      "text/plain": [
       "array([17,  4, 24, 36, 28,  4,  8, 20, 41, 30,  1,  6, 32, 40, 24, 22,  9,\n",
       "        9, 15, 21, 36, 36,  7, 20,  4, 19, 12, 25, 13, 38])"
      ]
     },
     "execution_count": 7,
     "metadata": {},
     "output_type": "execute_result"
    }
   ],
   "source": [
    "dataset.ns"
   ]
  },
  {
   "cell_type": "markdown",
   "metadata": {
    "collapsed": false
   },
   "source": [
    "    - The number of induced tracks"
   ]
  },
  {
   "cell_type": "code",
   "execution_count": 8,
   "metadata": {
    "collapsed": false
   },
   "outputs": [
    {
     "data": {
      "text/plain": [
       "array([21, 13, 28, 33, 23,  7, 14, 29, 58, 35,  4,  6, 43, 51, 20, 35, 13,\n",
       "        5, 15, 19, 35, 50,  6, 19,  6, 18, 19, 23, 19, 58])"
      ]
     },
     "execution_count": 8,
     "metadata": {},
     "output_type": "execute_result"
    }
   ],
   "source": [
    "dataset.ni"
   ]
  },
  {
   "cell_type": "markdown",
   "metadata": {},
   "source": [
    "Of course it makes more sense to look at the track counts as pairs of (ns,ni). This can be output as follow:"
   ]
  },
  {
   "cell_type": "code",
   "execution_count": 9,
   "metadata": {
    "collapsed": false
   },
   "outputs": [
    {
     "data": {
      "text/plain": [
       "[(17, 21),\n",
       " (4, 13),\n",
       " (24, 28),\n",
       " (36, 33),\n",
       " (28, 23),\n",
       " (4, 7),\n",
       " (8, 14),\n",
       " (20, 29),\n",
       " (41, 58),\n",
       " (30, 35),\n",
       " (1, 4),\n",
       " (6, 6),\n",
       " (32, 43),\n",
       " (40, 51),\n",
       " (24, 20),\n",
       " (22, 35),\n",
       " (9, 13),\n",
       " (9, 5),\n",
       " (15, 15),\n",
       " (21, 19),\n",
       " (36, 35),\n",
       " (36, 50),\n",
       " (7, 6),\n",
       " (20, 19),\n",
       " (4, 6),\n",
       " (19, 18),\n",
       " (12, 19),\n",
       " (25, 23),\n",
       " (13, 19),\n",
       " (38, 58)]"
      ]
     },
     "execution_count": 9,
     "metadata": {},
     "output_type": "execute_result"
    }
   ],
   "source": [
    "dataset.counts"
   ]
  },
  {
   "cell_type": "markdown",
   "metadata": {},
   "source": [
    "    - The track lengths which can be plotted using the plot_track_histogram() method:"
   ]
  },
  {
   "cell_type": "code",
   "execution_count": 10,
   "metadata": {
    "collapsed": false
   },
   "outputs": [
    {
     "data": {
      "text/plain": [
       "array([ 16.05,  10.95,  14.35,  14.25,  12.65,  12.35,  14.05,  10.55,\n",
       "        15.85,  14.25,  11.75,  12.65,  11.55,  12.15,  14.95,  12.35,\n",
       "        10.65,  10.75,  13.55,  14.85,  11.75,  14.85,  13.25,  13.35,\n",
       "        13.75,  15.05,  10.55,  12.55,  10.85,  13.25,  15.05,  12.35,\n",
       "        14.35,  12.55,  12.95,  12.75,  10.85,  12.15,  14.25,  12.85,\n",
       "        11.95,  14.75,  14.45,  11.95,   9.85,  11.55,  13.55,  13.45,\n",
       "        12.65,  13.15,   9.95,  11.95,  12.95,  13.55,  13.65,  13.65,\n",
       "        12.95,  13.25,  13.55,  12.55,  13.35,  13.95,  12.45,  13.45,\n",
       "        15.25,  15.15,  10.45,   9.85,  10.05,  13.85,  14.95,  15.15,\n",
       "        13.25,  12.35,  13.35,  13.85,  15.05,  11.25,  13.05,  14.35,\n",
       "        11.75,  11.95,   9.85,  13.05,  11.25,  13.55,  11.75,  13.15,\n",
       "        12.25,  11.95,  11.85,  12.15,  12.05,  11.45,  13.15,  11.65,\n",
       "        12.35,  13.25,  10.85,  11.75])"
      ]
     },
     "execution_count": 10,
     "metadata": {},
     "output_type": "execute_result"
    }
   ],
   "source": [
    "dataset.tls"
   ]
  },
  {
   "cell_type": "code",
   "execution_count": 11,
   "metadata": {
    "collapsed": false
   },
   "outputs": [
    {
     "data": {
      "image/png": "[encoded data removed]",
      "text/plain": [
       "<matplotlib.figure.Figure at 0x7fd517df3ba8>"
      ]
     },
     "metadata": {},
     "output_type": "display_data"
    }
   ],
   "source": [
    "dataset.plot_track_histogram()"
   ]
  },
  {
   "cell_type": "markdown",
   "metadata": {},
   "source": [
    "    - The mean track length and the associate standard deviation"
   ]
  },
  {
   "cell_type": "code",
   "execution_count": 12,
   "metadata": {
    "collapsed": false
   },
   "outputs": [
    {
     "data": {
      "text/plain": [
       "(12.805000000000005, 1.4459858228903903)"
      ]
     },
     "execution_count": 12,
     "metadata": {},
     "output_type": "execute_result"
    }
   ],
   "source": [
    "dataset.mtl, dataset.mtl_sd"
   ]
  },
  {
   "cell_type": "code",
   "execution_count": 13,
   "metadata": {
    "collapsed": false
   },
   "outputs": [
    {
     "data": {
      "text/plain": [
       "0.8438943085667384"
      ]
     },
     "execution_count": 13,
     "metadata": {},
     "output_type": "execute_result"
    }
   ],
   "source": [
    "dataset.rho"
   ]
  },
  {
   "cell_type": "code",
   "execution_count": 14,
   "metadata": {
    "collapsed": false
   },
   "outputs": [
    {
     "data": {
      "text/plain": [
       "array([  0.00000000e+00,   0.00000000e+00,   0.00000000e+00,\n",
       "         0.00000000e+00,   0.00000000e+00,   0.00000000e+00,\n",
       "         0.00000000e+00,   0.00000000e+00,   0.00000000e+00,\n",
       "         0.00000000e+00,   0.00000000e+00,   0.00000000e+00,\n",
       "         0.00000000e+00,   0.00000000e+00,   0.00000000e+00,\n",
       "         0.00000000e+00,   0.00000000e+00,   0.00000000e+00,\n",
       "         0.00000000e+00,   0.00000000e+00,   0.00000000e+00,\n",
       "         0.00000000e+00,   0.00000000e+00,   0.00000000e+00,\n",
       "         0.00000000e+00,   0.00000000e+00,   0.00000000e+00,\n",
       "         0.00000000e+00,   0.00000000e+00,   0.00000000e+00,\n",
       "         0.00000000e+00,   0.00000000e+00,   0.00000000e+00,\n",
       "         0.00000000e+00,   0.00000000e+00,   0.00000000e+00,\n",
       "         0.00000000e+00,   0.00000000e+00,   0.00000000e+00,\n",
       "         0.00000000e+00,   0.00000000e+00,   0.00000000e+00,\n",
       "         0.00000000e+00,   0.00000000e+00,   0.00000000e+00,\n",
       "         0.00000000e+00,   0.00000000e+00,   0.00000000e+00,\n",
       "         0.00000000e+00,   0.00000000e+00,   0.00000000e+00,\n",
       "         0.00000000e+00,   0.00000000e+00,   0.00000000e+00,\n",
       "         0.00000000e+00,   0.00000000e+00,   0.00000000e+00,\n",
       "         0.00000000e+00,   0.00000000e+00,   0.00000000e+00,\n",
       "         0.00000000e+00,   0.00000000e+00,   0.00000000e+00,\n",
       "         0.00000000e+00,   0.00000000e+00,   0.00000000e+00,\n",
       "         0.00000000e+00,   0.00000000e+00,   0.00000000e+00,\n",
       "         0.00000000e+00,   8.25111370e-07,   1.85686575e-06,\n",
       "         3.39786545e-06,   5.36288242e-06,   8.01645355e-06,\n",
       "         1.15636016e-05,   1.61578515e-05,   2.22353106e-05,\n",
       "         3.02100288e-05,   4.04848310e-05,   5.38040299e-05,\n",
       "         7.09459545e-05,   9.28527709e-05,   1.20540662e-04,\n",
       "         1.55478209e-04,   1.99266176e-04,   2.53776836e-04,\n",
       "         3.21060133e-04,   4.03733776e-04,   5.04640367e-04,\n",
       "         6.26975618e-04,   7.74291347e-04,   9.50367769e-04,\n",
       "         1.15957168e-03,   1.40644939e-03,   1.69579392e-03,\n",
       "         2.03257307e-03,   2.42183678e-03,   2.86846309e-03,\n",
       "         3.37764207e-03,   3.95361052e-03,   4.60077048e-03,\n",
       "         5.32226512e-03,   6.12079174e-03,   6.99787637e-03,\n",
       "         7.95380300e-03,   8.98743080e-03,   1.00960299e-02,\n",
       "         1.12751443e-02,   1.25187032e-02,   1.38182054e-02,\n",
       "         1.51637450e-02,   1.65434283e-02,   1.79436304e-02,\n",
       "         1.93491671e-02,   2.07435283e-02,   2.21091701e-02,\n",
       "         2.34278590e-02,   2.46810607e-02,   2.58503611e-02,\n",
       "         2.69179091e-02,   2.78668640e-02,   2.86818341e-02,\n",
       "         2.93492903e-02,   2.98579386e-02,   3.01990389e-02,\n",
       "         3.03666561e-02,   3.03578342e-02,   3.01726867e-02,\n",
       "         2.98143983e-02,   2.92891386e-02,   2.86058904e-02,\n",
       "         2.77761990e-02,   2.68138519e-02,   2.57345022e-02,\n",
       "         2.45552475e-02,   2.32941831e-02,   2.19699421e-02,\n",
       "         2.06012423e-02,   1.92064513e-02,   1.78031876e-02,\n",
       "         1.64079656e-02,   1.50358978e-02,   1.37004573e-02,\n",
       "         1.24133068e-02,   1.11841936e-02,   1.00209094e-02,\n",
       "         8.92931028e-03,   7.91339034e-03,   6.97540118e-03,\n",
       "         6.11600814e-03,   5.33447364e-03,   4.62885785e-03,\n",
       "         3.99622758e-03,   3.43286475e-03,   2.93446739e-03,\n",
       "         2.49633685e-03,   2.11354692e-03,   1.78109161e-03,\n",
       "         1.49400995e-03,   1.24748734e-03,   1.03693413e-03,\n",
       "         8.58042878e-04,   7.06826372e-04,   5.79639091e-04,\n",
       "         4.73184659e-04,   3.84512155e-04,   3.11003845e-04,\n",
       "         2.50356732e-04,   2.00560028e-04,   1.59870263e-04,\n",
       "         1.26785469e-04,   1.00019493e-04,   7.84772377e-05,\n",
       "         6.12313550e-05,   4.75007064e-05,   3.66307645e-05,\n",
       "         2.80759830e-05,   2.13840976e-05,   1.61822543e-05,\n",
       "         1.21648381e-05,   9.08285490e-06,   6.73471929e-06,\n",
       "         4.95830451e-06,   3.62411784e-06,   2.62947574e-06,\n",
       "         1.89356241e-06,   1.35326566e-06,   9.59693011e-07,\n",
       "         6.75279647e-07,   4.71407540e-07,   3.26462654e-07,\n",
       "         2.24264292e-07,   1.52807509e-07,   1.03266177e-07,\n",
       "         6.92107689e-08,   4.60009707e-08,   3.03190602e-08,\n",
       "         1.98152471e-08,   1.28410235e-08])"
      ]
     },
     "execution_count": 14,
     "metadata": {},
     "output_type": "execute_result"
    }
   ],
   "source": [
    "dataset.TLD"
   ]
  },
  {
   "cell_type": "markdown",
   "metadata": {
    "collapsed": false
   },
   "source": [
    "## Saving the dataset"
   ]
  },
  {
   "cell_type": "code",
   "execution_count": null,
   "metadata": {
    "collapsed": false
   },
   "outputs": [],
   "source": [
    "#dataset.write_mtx_file(\"Synthetic.mtx\")"
   ]
  }
 ],
 "metadata": {
  "kernelspec": {
   "display_name": "Python 3",
   "language": "python",
   "name": "python3"
  },
  "language_info": {
   "codemirror_mode": {
    "name": "ipython",
    "version": 3
   },
   "file_extension": ".py",
   "mimetype": "text/x-python",
   "name": "python",
   "nbconvert_exporter": "python",
   "pygments_lexer": "ipython3",
   "version": "3.6.0"
  }
 },
 "nbformat": 4,
 "nbformat_minor": 0
}
